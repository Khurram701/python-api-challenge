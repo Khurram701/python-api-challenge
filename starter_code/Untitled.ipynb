{
 "cells": [
  {
   "cell_type": "code",
   "execution_count": null,
   "id": "41760b05",
   "metadata": {},
   "outputs": [],
   "source": [
    "# Define your ideal weather conditions\n",
    "max_temp = 40.11\n",
    "humidity = 100\n",
    "cloudiness = 100\n",
    "wind_speed = 14.82\n",
    "\n",
    "# Filter the city_data_df DataFrame using boolean indexing\n",
    "ideal_cities_df = city_data_df[(city_data_df['Max Temp'] <= max_temp) & \n",
    "                               (city_data_df['Humidity'] <= humidity) & \n",
    "                               (city_data_df['Cloudiness'] <= cloudiness) & \n",
    "                               (city_data_df['Wind Speed'] <= wind_speed)]\n",
    "\n",
    "# Print the number of cities that meet your criteria\n",
    "print(f\"Number of cities that meet your ideal weather conditions: {len(ideal_cities_df)}\")"
   ]
  },
  {
   "cell_type": "code",
   "execution_count": null,
   "id": "8bcc8b85",
   "metadata": {},
   "outputs": [],
   "source": [
    "# Drop any rows with null values from the df DataFrame\n",
    "df = city_data_df.dropna()\n",
    "\n",
    "# Print the number of rows in the cleaned DataFrame\n",
    "print(f\"Number of rows in cleaned DataFrame: {len(df)}\")\n",
    "\n",
    "df\n"
   ]
  },
  {
   "cell_type": "code",
   "execution_count": null,
   "id": "3b444be4",
   "metadata": {},
   "outputs": [],
   "source": [
    "city_data_df = city_data_df.dropna()\n",
    "city_data_df"
   ]
  },
  {
   "cell_type": "code",
   "execution_count": null,
   "id": "9df0dad8",
   "metadata": {},
   "outputs": [],
   "source": [
    "# Use the Pandas copy function to create DataFrame called hotel_df\n",
    "hotel_df = city_data_df[['City', 'Country', 'Lat', 'Lng', 'Humidity']].copy()\n",
    "\n",
    "# Add columns for Hotel Name and Address\n",
    "hotel_df['Hotel Name'] = \"\"\n",
    "\n",
    "# Display the first 5 rows of the hotel_df DataFrame\n",
    "hotel_df.head()"
   ]
  },
  {
   "cell_type": "code",
   "execution_count": null,
   "id": "86f79b45",
   "metadata": {},
   "outputs": [],
   "source": []
  },
  {
   "cell_type": "code",
   "execution_count": null,
   "id": "d9ed91fd",
   "metadata": {},
   "outputs": [],
   "source": [
    "# Set the latitude and longitude of the location you are interested in\n",
    "Lat = 37.0904862\n",
    "Lng = -113.58410738463388\n",
    "API_KEY = geoapify_key\n",
    "\n",
    "# Set the radius (in meters) within which you want to search for a hotel\n",
    "radius = 10000\n",
    "\n",
    "# Set the search parameters\n",
    "params = {\n",
    "    \"location\": f\"{Lat},{Lng}\",\n",
    "    \"radius\": radius,\n",
    "    \"type\": \"lodging\",\n",
    "    \"key\": API_KEY\n",
    "}\n",
    "\n",
    "# Print a message to follow up the hotel search\n",
    "print(\"Starting hotel search...\")\n",
    "\n",
    "# Iterate through the hotel_df DataFrame\n",
    "for index, row in hotel_df.iterrows():\n",
    "    # get latitude, longitude from the DataFrame\n",
    "    Lat = row[\"Lat\"]\n",
    "    Lng = row[\"Lng\"]\n",
    "    \n",
    "    # Add filter and bias parameters with the current city's latitude and longitude to the params dictionary\n",
    "    params[\"filter\"] = f\"circle:{Lng},{Lat},{radius}\"\n",
    "    params[\"bias\"] = f\"proximity:{Lng},{Lat}\"\n",
    "    \n",
    "   # Set base URL\n",
    "    base_url = \"https://api.geoapify.com/v2/places\"\n",
    "    \n",
    "    \n",
    "     # Make and API request using the params dictionaty\n",
    "    name_address = requests.get(base_url, params=params)\n",
    "    \n",
    "    # Convert the API response to JSON format\n",
    "    name_address = requests.get(base_url, params=params).json\n",
    "    \n",
    "    \n",
    "    # Retrieve the details of the first hotel from the response\n",
    "    try:\n",
    "        hotel_name = response[\"features\"][0][\"properties\"][\"name\"]\n",
    "        hotel_address = response[\"features\"][0][\"properties\"][\"formatted\"]\n",
    "        hotel_df.loc[index, \"Hotel Name\"] = hotel_name\n",
    "        hotel_df.loc[index, \"Hotel Address\"] = hotel_address\n",
    "        print(f\"Hotel found for {row['City']}\")\n",
    "    except IndexError:\n",
    "        print(f\"No hotel found within {radius} meters of {row['City']}\")\n",
    "        \n",
    "   # Log the search results\n",
    "    print(f\"{hotel_df.loc[index, 'City']} - nearest hotel: {hotel_df.loc[index, 'Hotel Name']}\")\n",
    "    \n",
    "  \n",
    "\n",
    "# Display sample data\n",
    "hotel_df\n",
    "\n"
   ]
  },
  {
   "cell_type": "code",
   "execution_count": null,
   "id": "aefd3a8f",
   "metadata": {},
   "outputs": [],
   "source": [
    "# Set the latitude and longitude of the location you are interested in\n",
    "Lat = 27.3167\n",
    "Lng = -112.2833\n",
    "API_KEY = geoapify_key"
   ]
  }
 ],
 "metadata": {
  "kernelspec": {
   "display_name": "Python 3 (ipykernel)",
   "language": "python",
   "name": "python3"
  },
  "language_info": {
   "codemirror_mode": {
    "name": "ipython",
    "version": 3
   },
   "file_extension": ".py",
   "mimetype": "text/x-python",
   "name": "python",
   "nbconvert_exporter": "python",
   "pygments_lexer": "ipython3",
   "version": "3.9.13"
  }
 },
 "nbformat": 4,
 "nbformat_minor": 5
}
